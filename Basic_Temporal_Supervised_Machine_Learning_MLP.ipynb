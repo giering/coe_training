{
  "nbformat": 4,
  "nbformat_minor": 0,
  "metadata": {
    "colab": {
      "name": "Basic Temporal Supervised Machine Learning - MLP.ipynb",
      "version": "0.3.2",
      "provenance": [],
      "collapsed_sections": [],
      "include_colab_link": true
    },
    "kernelspec": {
      "name": "python3",
      "display_name": "Python 3"
    },
    "accelerator": "TPU"
  },
  "cells": [
    {
      "cell_type": "markdown",
      "metadata": {
        "id": "view-in-github",
        "colab_type": "text"
      },
      "source": [
        "<a href=\"https://colab.research.google.com/github/todnewman/coe_training/blob/master/Basic_Temporal_Supervised_Machine_Learning_MLP.ipynb\" target=\"_parent\"><img src=\"https://colab.research.google.com/assets/colab-badge.svg\" alt=\"Open In Colab\"/></a>"
      ]
    },
    {
      "metadata": {
        "id": "jO7hIpIYm72S",
        "colab_type": "text"
      },
      "cell_type": "markdown",
      "source": [
        "# Supervised Machine Learning for Time Series Data\n",
        "**Author**: W. Tod Newman\n",
        "\n",
        "**Updates**: New Version\n",
        "\n",
        "## Problem\n",
        "\n",
        "Determine the probability of rain some number of hours in the future based on the last X hours of collected data across six features.\n",
        "\n",
        "## Learning Objectives\n",
        "\n",
        "\n",
        "* Evaluate why time series data is interesting and useful for prediction.\n",
        "* Learn techniques for unrolling sequences and building a supervised learning dataset from time series data.\n",
        "* Learn techniques for shifting labels to enable predictions of future states using current data.\n",
        "* Demonstrate real-time inference using new data.\n",
        "\n",
        "## Dataset\n",
        "\n",
        "This dataset is the famous \"Tod Newman Back Porch\" Dataset.  See http://www.todnewman.com for details on the data collection system.\n",
        "\n",
        "Features include:\n",
        "* Distance of Lightning Strike (km)\n",
        "* Energy of Lightning Strike (unitless)\n",
        "* Visible Light Luminosity (lux)\n",
        "* Humidity (%)\n",
        "* Pressure (HPa)\n",
        "* Temperature (deg F)\n",
        "\n",
        "The Label is:\n",
        "* Rain: Was it raining during the collection interval or not.\n",
        "\n",
        "\n",
        "\n"
      ]
    },
    {
      "metadata": {
        "id": "skj9F394nV6k",
        "colab_type": "code",
        "colab": {}
      },
      "cell_type": "code",
      "source": [
        "import os, sys \n",
        "sys.path.insert(0, os.getcwd()) \n",
        "import numpy as np\n",
        "import pandas as pd\n",
        "import matplotlib.pyplot as plt\n",
        "import math\n",
        "import matplotlib\n",
        "import sklearn as sk\n",
        "from sklearn import preprocessing\n",
        "from sklearn import metrics\n",
        "#from sklearn.grid_search import GridSearchCV, RandomizedSearchCV\n",
        "from sklearn import linear_model\n",
        "%matplotlib inline\n",
        "import warnings\n",
        "warnings.filterwarnings(\"ignore\", category=DeprecationWarning)\n",
        "\n"
      ],
      "execution_count": 0,
      "outputs": []
    },
    {
      "metadata": {
        "id": "sBg-8Bzm63d_",
        "colab_type": "text"
      },
      "cell_type": "markdown",
      "source": [
        "# Data\n",
        "\n",
        "Below I demonstrate a number of different approaches to getting data into our processing pipeline.  I mostly load data and common python modules from my GitHub account (https://github.com/todnewman).  I tend to store models and other artifacts of this workflow in my Google Drive.  When using this workflow, the developer will of course read from and save to their own Google Drive.  You'll need a Google account (which you probably need anyway to use this Notebook) and would have to authenticate.  That is all handled in number 2 below.\n",
        "\n",
        "Right now this workflow is automated and the products are very available.  This is very useful for using as training modules.\n",
        "\n",
        "##Methods of Data Insertion:\n",
        "1. Direct import from your PC local storage\n",
        "2. Load from Google Drive \n",
        "3. Load from GitHub\n",
        "4. Direct acquisition from repositories (like UC Irvine's Open Data Repository).  Use wget or import a URL directly in to pandas read_csv()."
      ]
    },
    {
      "metadata": {
        "id": "HruWdtVAgJ7j",
        "colab_type": "text"
      },
      "cell_type": "markdown",
      "source": [
        "### Here's a way to import files from local storage to colaboratory.  This is not to be used with proprietary data assets, only personal ones.  \n",
        "\n",
        "You can use this to load your own unclassified datasets.  The data will end up in the /model/inputs directory.  "
      ]
    },
    {
      "metadata": {
        "id": "1DOn1Qkdvqff",
        "colab_type": "code",
        "colab": {}
      },
      "cell_type": "code",
      "source": [
        "from google.colab import files\n",
        "filename = files.upload()"
      ],
      "execution_count": 0,
      "outputs": []
    },
    {
      "metadata": {
        "id": "fKRtNbcXhSzh",
        "colab_type": "text"
      },
      "cell_type": "markdown",
      "source": [
        "### Here's how you can load files from YOUR Google Drive.  \n",
        "\n",
        "It will give you a link to follow which will ask you to log in to your Google account.  Then your Google drive will show up as /content/drive/'My Drive'\n",
        "\n",
        "This is a good way to get larger datafiles into your workflows.  They'll take up space on your Google Drive, but you have 15GB for free.\n",
        "\n",
        "If you want to grab tod's lightning_sensor_data.csv, it is public and accessible at this link:  https://drive.google.com/file/d/12rb8lkz16iTWuvB2OVXwZ0SJvE8AYSps/view?usp=sharing"
      ]
    },
    {
      "metadata": {
        "id": "7joL7CqgJjQu",
        "colab_type": "code",
        "outputId": "ed388596-74fd-4ba8-ee3c-23b18b7ff771",
        "colab": {
          "base_uri": "https://localhost:8080/",
          "height": 193
        }
      },
      "cell_type": "code",
      "source": [
        "from google.colab import drive\n",
        "drive.mount('/content/drive')\n",
        "%cd /content/drive/'My Drive'/data\n",
        "%ls"
      ],
      "execution_count": 21,
      "outputs": [
        {
          "output_type": "stream",
          "text": [
            "Go to this URL in a browser: https://accounts.google.com/o/oauth2/auth?client_id=947318989803-6bn6qk8qdgf4n4g3pfee6491hc0brc4i.apps.googleusercontent.com&redirect_uri=urn%3Aietf%3Awg%3Aoauth%3A2.0%3Aoob&scope=email%20https%3A%2F%2Fwww.googleapis.com%2Fauth%2Fdocs.test%20https%3A%2F%2Fwww.googleapis.com%2Fauth%2Fdrive%20https%3A%2F%2Fwww.googleapis.com%2Fauth%2Fdrive.photos.readonly%20https%3A%2F%2Fwww.googleapis.com%2Fauth%2Fpeopleapi.readonly&response_type=code\n",
            "\n",
            "Enter your authorization code:\n",
            "··········\n",
            "Mounted at /content/drive\n",
            "/content/drive/My Drive/data\n",
            "1_rain_confusion_matrix.png  lightning_sensor_data.csv          rain_model\n",
            "2_rain_confusion_matrix.png  lightning_sensor_data.gsheet       rain_seq_model\n",
            "corr_mat.png                 lightning_sensor_data_predict.csv\n"
          ],
          "name": "stdout"
        }
      ]
    },
    {
      "metadata": {
        "id": "5LSY7qL2nhWs",
        "colab_type": "text"
      },
      "cell_type": "markdown",
      "source": [
        "### Loading data from GitHub\n",
        "\n",
        "Here's another really good way to get example data in.  I have a data project in GitHub that is associated with the coe_training project.  We can download the whole folder with the git clone command or just one file with the wget command."
      ]
    },
    {
      "metadata": {
        "id": "NaNoF346iPSq",
        "colab_type": "code",
        "outputId": "b62ef979-1847-4eb3-ebae-7a5c278cabbb",
        "colab": {
          "base_uri": "https://localhost:8080/",
          "height": 816
        }
      },
      "cell_type": "code",
      "source": [
        "%cd /content\n",
        "# Below is how you clone the whole data project from Tod's GitHub\n",
        "#!git clone https://github.com/todnewman/data\n",
        "# Below is how you can grab just the single .csv file for this project.  You can get this address by clicking on a file, then clicking 'RAW'\n",
        "#  in GitHub.  Then copy the link address from the browser.\n",
        "!wget -O /content/lightning_sensor_data.csv 'https://raw.githubusercontent.com/todnewman/data/master/lightning_sensor_data.csv'\n",
        "!wget -O /content/lightning_sensor_data_predict.csv 'https://raw.githubusercontent.com/todnewman/data/master/lightning_sensor_data_predict.csv'\n",
        "!wget -O /content/pytools.py 'https://raw.githubusercontent.com/todnewman/coe_training/master/pytools.py'\n",
        "import pytools\n",
        "!ls -l\n"
      ],
      "execution_count": 2,
      "outputs": [
        {
          "output_type": "stream",
          "text": [
            "/content\n",
            "--2019-03-07 14:29:25--  https://raw.githubusercontent.com/todnewman/data/master/lightning_sensor_data.csv\n",
            "Resolving raw.githubusercontent.com (raw.githubusercontent.com)... 151.101.0.133, 151.101.64.133, 151.101.128.133, ...\n",
            "Connecting to raw.githubusercontent.com (raw.githubusercontent.com)|151.101.0.133|:443... connected.\n",
            "HTTP request sent, awaiting response... 200 OK\n",
            "Length: 430262 (420K) [text/plain]\n",
            "Saving to: ‘/content/lightning_sensor_data.csv’\n",
            "\n",
            "/content/lightning_ 100%[===================>] 420.18K  --.-KB/s    in 0.04s   \n",
            "\n",
            "2019-03-07 14:29:25 (10.1 MB/s) - ‘/content/lightning_sensor_data.csv’ saved [430262/430262]\n",
            "\n",
            "--2019-03-07 14:29:26--  https://raw.githubusercontent.com/todnewman/data/master/lightning_sensor_data_predict.csv\n",
            "Resolving raw.githubusercontent.com (raw.githubusercontent.com)... 151.101.0.133, 151.101.64.133, 151.101.128.133, ...\n",
            "Connecting to raw.githubusercontent.com (raw.githubusercontent.com)|151.101.0.133|:443... connected.\n",
            "HTTP request sent, awaiting response... 200 OK\n",
            "Length: 17320 (17K) [text/plain]\n",
            "Saving to: ‘/content/lightning_sensor_data_predict.csv’\n",
            "\n",
            "/content/lightning_ 100%[===================>]  16.91K  --.-KB/s    in 0.01s   \n",
            "\n",
            "2019-03-07 14:29:26 (1.72 MB/s) - ‘/content/lightning_sensor_data_predict.csv’ saved [17320/17320]\n",
            "\n",
            "--2019-03-07 14:29:27--  https://raw.githubusercontent.com/todnewman/coe_training/master/pytools.py\n",
            "Resolving raw.githubusercontent.com (raw.githubusercontent.com)... 151.101.0.133, 151.101.64.133, 151.101.128.133, ...\n",
            "Connecting to raw.githubusercontent.com (raw.githubusercontent.com)|151.101.0.133|:443... connected.\n",
            "HTTP request sent, awaiting response... 200 OK\n",
            "Length: 8563 (8.4K) [text/plain]\n",
            "Saving to: ‘/content/pytools.py’\n",
            "\n",
            "/content/pytools.py 100%[===================>]   8.36K  --.-KB/s    in 0s      \n",
            "\n",
            "2019-03-07 14:29:27 (64.2 MB/s) - ‘/content/pytools.py’ saved [8563/8563]\n",
            "\n",
            "total 45236\n",
            "-rw-r--r-- 1 root root    54413 Mar  7 14:10 1_rain_confusion_matrix.png\n",
            "-rw-r--r-- 1 root root    52975 Mar  7 14:10 2_rain_confusion_matrix.png\n",
            "-rw-r--r-- 1 root root   430262 Mar  7 14:29 lightning_sensor_data.csv\n",
            "-rw-r--r-- 1 root root    17320 Mar  7 14:29 lightning_sensor_data_predict.csv\n",
            "drwxr-xr-x 2 root root     4096 Mar  7 13:30 log\n",
            "-rwxr-xr-x 1 root root 30575435 Mar  7 07:03 ngrok\n",
            "-rw-r--r-- 1 root root 14893410 Mar  7 12:50 ngrok-stable-linux-amd64.zip\n",
            "drwxr-xr-x 2 root root     4096 Mar  7 14:29 __pycache__\n",
            "-rw-r--r-- 1 root root     8563 Mar  7 14:29 pytools.py\n",
            "-rw-r--r-- 1 root root   239944 Mar  7 14:10 rain_seq_model\n",
            "drwxr-xr-x 1 root root     4096 Feb 26 17:33 sample_data\n"
          ],
          "name": "stdout"
        }
      ]
    },
    {
      "metadata": {
        "id": "z0XOcUPyxVuh",
        "colab_type": "text"
      },
      "cell_type": "markdown",
      "source": [
        "## Dataframe Prototyping Area below"
      ]
    },
    {
      "metadata": {
        "id": "NNUrH94qnyPF",
        "colab_type": "code",
        "outputId": "438109d3-b742-4bb4-ab97-c8662625f54e",
        "colab": {
          "base_uri": "https://localhost:8080/",
          "height": 399
        }
      },
      "cell_type": "code",
      "source": [
        "target = 'Rain'\n",
        "#df = pd.read_csv('/content/drive/My Drive/data/lightning_sensor_data.csv')\n",
        "df = pd.read_csv('/content/lightning_sensor_data.csv', error_bad_lines=False)\n",
        "keys = df.keys()\n",
        "print (keys)\n",
        "print (df.info())\n",
        "rain = df['Rain']==1\n"
      ],
      "execution_count": 10,
      "outputs": [
        {
          "output_type": "stream",
          "text": [
            "Index(['Unnamed: 0', 'Distance', 'Energy', 'Full Light Spectrum',\n",
            "       'Humidity (%)', 'IR Spectrum', 'Luminosity (lux)', 'Pressure (HP-900)',\n",
            "       'Temperature (deg F)', 'Time', 'Date', 'Rain'],\n",
            "      dtype='object')\n",
            "<class 'pandas.core.frame.DataFrame'>\n",
            "RangeIndex: 4632 entries, 0 to 4631\n",
            "Data columns (total 12 columns):\n",
            "Unnamed: 0             4632 non-null int64\n",
            "Distance               4632 non-null int64\n",
            "Energy                 4632 non-null int64\n",
            "Full Light Spectrum    4632 non-null int64\n",
            "Humidity (%)           4632 non-null float64\n",
            "IR Spectrum            4632 non-null int64\n",
            "Luminosity (lux)       4632 non-null float64\n",
            "Pressure (HP-900)      4632 non-null float64\n",
            "Temperature (deg F)    4632 non-null float64\n",
            "Time                   4632 non-null object\n",
            "Date                   4632 non-null object\n",
            "Rain                   4632 non-null int64\n",
            "dtypes: float64(4), int64(6), object(2)\n",
            "memory usage: 434.3+ KB\n",
            "None\n"
          ],
          "name": "stdout"
        }
      ]
    },
    {
      "metadata": {
        "id": "2V6oOFPGxJWI",
        "colab_type": "text"
      },
      "cell_type": "markdown",
      "source": [
        "## Connect Tensorboard\n",
        "\n",
        "Note that this gives a link to the Tensorboard URL at the end.  Train the model first and then click the  link below (will have ngrok.io at the end) to see results in Tensorboard.\n",
        "\n",
        "Here's alink with basic info on Tensorboard:  https://www.tensorflow.org/guide/summaries_and_tensorboard"
      ]
    },
    {
      "metadata": {
        "id": "TE_ENXwa22pK",
        "colab_type": "code",
        "outputId": "2e998b69-f47e-4767-fb3c-474d34da3002",
        "colab": {
          "base_uri": "https://localhost:8080/",
          "height": 278
        }
      },
      "cell_type": "code",
      "source": [
        "!wget https://bin.equinox.io/c/4VmDzA7iaHb/ngrok-stable-linux-amd64.zip\n",
        "!unzip ngrok-stable-linux-amd64.zip\n",
        "LOG_DIR = './log'\n",
        "get_ipython().system_raw(\n",
        "    'tensorboard --logdir {} --host 0.0.0.0 --port 6006 &'\n",
        "    .format(LOG_DIR)\n",
        ")\n",
        "get_ipython().system_raw('./ngrok http 6006 &')\n",
        "! curl -s http://localhost:4040/api/tunnels | python3 -c \\\n",
        "\"import sys, json; print(json.load(sys.stdin)['tunnels'][0]['public_url'])\"\n",
        "\n",
        "    \n",
        "tensorboard = True"
      ],
      "execution_count": 23,
      "outputs": [
        {
          "output_type": "stream",
          "text": [
            "--2019-03-07 15:29:20--  https://bin.equinox.io/c/4VmDzA7iaHb/ngrok-stable-linux-amd64.zip\n",
            "Resolving bin.equinox.io (bin.equinox.io)... 34.196.237.103, 35.173.6.94, 34.199.255.1, ...\n",
            "Connecting to bin.equinox.io (bin.equinox.io)|34.196.237.103|:443... connected.\n",
            "HTTP request sent, awaiting response... 200 OK\n",
            "Length: 14893410 (14M) [application/octet-stream]\n",
            "Saving to: ‘ngrok-stable-linux-amd64.zip.1’\n",
            "\n",
            "ngrok-stable-linux- 100%[===================>]  14.20M  37.8MB/s    in 0.4s    \n",
            "\n",
            "2019-03-07 15:29:21 (37.8 MB/s) - ‘ngrok-stable-linux-amd64.zip.1’ saved [14893410/14893410]\n",
            "\n",
            "Archive:  ngrok-stable-linux-amd64.zip\n",
            "replace ngrok? [y]es, [n]o, [A]ll, [N]one, [r]ename: y\n",
            "  inflating: ngrok                   \n",
            "https://d9f18e8f.ngrok.io\n"
          ],
          "name": "stdout"
        }
      ]
    },
    {
      "metadata": {
        "id": "r-PvkeFqs0Ex",
        "colab_type": "text"
      },
      "cell_type": "markdown",
      "source": [
        "## Split Data into Training and Test Sets\n",
        "This function takes a dataframe, the size of the test set in percentage of the whole, a randomizing seed, and the target column number as arguments.\n",
        "First we capture the target column to prevent it from being scaled by the scaler.\n",
        "Then, we convert the data (X) into numpy arrays and scale.  There are three scalers that are effective for this work.  MaxAbsScaler is better with sparse data.\n",
        "Finally, we use Python sklearn's train_test_split function to return X and y for training and X and y for test.\n",
        "\n",
        "### Inbalanced Learning\n",
        "Inside this function there is the option to use inbalance learning to increase the sample size by creating intelligent, synthetic datapoints.  This is a technique that is common when a dataset is unbalanced in favor of one class or if it's too small to yield consistent results.  In this case, I'm employing the Synthetic Minority Oversampling Technique (SMOTE) algorithm. \n",
        "\n",
        "To oversample using SMOTE, take a sample from the dataset, and consider its k nearest neighbors (in feature space). To create a synthetic data point, take the vector between one of those k neighbors, and the current data point. Multiply this vector by a random number x which lies between 0, and 1. Add this to the current data point to create the new, synthetic data point."
      ]
    },
    {
      "metadata": {
        "id": "fmffmRHDsrVm",
        "colab_type": "code",
        "colab": {}
      },
      "cell_type": "code",
      "source": [
        "def split_data(df, size, predict_flag, target):\n",
        "    ''' Split the data into training and testing sets.  Column headers below are custom for the \"Douglas data set\".\n",
        "    NaN's are filled with zero to maintain consistent data shapes.\n",
        "    '''\n",
        "    from sklearn.model_selection import train_test_split\n",
        "    from sklearn import preprocessing\n",
        "    from imblearn.combine import SMOTEENN\n",
        "    from imblearn.over_sampling import ADASYN\n",
        "    \n",
        "    df = df.convert_objects(convert_numeric=True).fillna(0)\n",
        "    \n",
        "    y = df.pop(target) # Remove the 'target' column that has the labels\n",
        "    y = np.array(y).astype(int) # in case the target is a float for some reason\n",
        "    X = df.fillna(0)    \n",
        "    \n",
        "    #  Scale the data.  This allows many of the algorithms to work more effectively\n",
        " \n",
        "    X = preprocessing.MinMaxScaler().fit_transform(X)\n",
        "    X = np.array(X)\n",
        "    \n",
        "    \n",
        "    \n",
        "    if predict_flag:\n",
        "        return X, y\n",
        "    else:\n",
        "        # Scale the data so it works better with the ML algorithms\n",
        "        X_train,X_test,y_train,y_test = train_test_split(X,y,test_size=size) # Keeping the test set small to evaluate timing\n",
        "        #X_train = tf.convert_to_tensor(X_train)\n",
        "        print(\"X_train size: {}\".format(X_train.shape))\n",
        "        print(\"y_train size: {}\".format(y_train.shape))\n",
        "        print(\"X_test size: {}\".format(X_test.shape))\n",
        "        print(\"y_test size: {}\".format(y_test.shape))\n",
        "        \n",
        "        #sm = ADASYN(random_state=41)\n",
        "        sm = SMOTEENN(random_state=41)\n",
        "        X_train, y_train = sm.fit_sample(X_train, y_train) # This just oversamples the training set.    \n",
        "        return X_train, X_test, y_train, y_test"
      ],
      "execution_count": 0,
      "outputs": []
    },
    {
      "metadata": {
        "id": "cX_2N05eCWDA",
        "colab_type": "text"
      },
      "cell_type": "markdown",
      "source": [
        "## Create Multi-Layer Perceptron network for this problem\n",
        "\n",
        "We're designing this MLP network to work with our data shape.  Adding a Leaky RELU activation function and Dropout to control for overfitting.  Classification layer is a dense layer size one since we're only doing binary classification."
      ]
    },
    {
      "metadata": {
        "id": "pJHGOJiIeFHE",
        "colab_type": "code",
        "colab": {}
      },
      "cell_type": "code",
      "source": [
        "def nn_mlp(input_shape, learning_rate):\n",
        "    model = Sequential()\n",
        "    model.add(Dense(64, input_dim=input_shape[1]))\n",
        "    model.add(LeakyReLU(alpha=0.05))\n",
        "    model.add(Dropout(0.4))\n",
        "    model.add(Dense(32))\n",
        "    model.add(LeakyReLU(alpha=0.05))\n",
        "    model.add(Dropout(0.4))\n",
        "    model.add(Dense(16))\n",
        "    model.add(LeakyReLU(alpha=0.05))\n",
        "    model.add(Dropout(0.4))\n",
        "    model.add(Dense(1, activation='sigmoid'))\n",
        "    optimizer = optimizers.Adam(lr=learning_rate)\n",
        "    model.compile(loss='mse',\n",
        "              optimizer=optimizer,\n",
        "              metrics=['accuracy'])\n",
        "    return model"
      ],
      "execution_count": 0,
      "outputs": []
    },
    {
      "metadata": {
        "id": "cLxcqNaRfzsv",
        "colab_type": "text"
      },
      "cell_type": "markdown",
      "source": [
        "## Process Data and execute shift_time function in order to create temporal supervised ML model.\n",
        "\n",
        "Shift_time essentially takes the 'shift_depth' number of previous sequences for each feature and makes new features out of them.  This flattens the record with new_features = orig_number_of_features * shift_depth\n",
        "\n",
        "Then shift_time takes the target vector and shifts the future target 'y_shift' sequences away into the record.  \n",
        "\n",
        "What this allows is one large record with the current samples of each feature, some number of previous samples for each feature (shift_depth number) and the target value from the future.\n",
        "\n",
        "In the case of this example, this allows us to use the shift_depth previous sequences of environmental data to predict whether it will be raining y_shift hours in the future."
      ]
    },
    {
      "metadata": {
        "id": "VFQlVueibb-z",
        "colab_type": "code",
        "outputId": "47d27ccb-e595-4b8f-cf11-de4608c71676",
        "colab": {
          "base_uri": "https://localhost:8080/",
          "height": 2681
        }
      },
      "cell_type": "code",
      "source": [
        "from sklearn.preprocessing import MinMaxScaler\n",
        "from sklearn.preprocessing import LabelEncoder\n",
        "from sklearn.metrics import mean_squared_error\n",
        "from keras.layers import LSTM, Flatten, Dense, Activation, Dropout, MaxPooling1D\n",
        "from keras.models import Sequential\n",
        "from sklearn.metrics import cohen_kappa_score\n",
        "from keras.layers.advanced_activations import LeakyReLU\n",
        "from keras import optimizers\n",
        "from numpy import concatenate\n",
        "from math import sqrt\n",
        "from keras.callbacks import TensorBoard\n",
        "\n",
        "target = 'Rain'\n",
        "num_epochs = 3500\n",
        "batch_size = 64\n",
        "shift_depth = 8\n",
        "learning_rate = .001\n",
        "y_shift = -12\n",
        "\n",
        "weights_file = 'rain_model_mlp'\n",
        "\n",
        "df = pd.read_csv('/content/lightning_sensor_data.csv', error_bad_lines=False)\n",
        "\n",
        "# convert series to supervised learning.  This is a sneaky trick that simplifies\n",
        "# data preparation by creating new features comprised of a sequence of features.\n",
        "# The number of features goes up when you do that by a factor of shift_depth.\n",
        "# We pull the label (df_y) out beforehand though, so past sequences of the label\n",
        "# don't get pulled in.\n",
        "\n",
        "def shift_time(data, df_y,  n_in=1,  y_shift=6, dropnan=True):\n",
        "    \"\"\"\n",
        "\t  Frame a time series as a supervised learning dataset.\n",
        "\t  Arguments:\n",
        "\t\t  data: Sequence of observations as a list or NumPy array.\n",
        "\t\t  n_in: Number of lag observations as input (X).\n",
        "\t\t  dropnan: Boolean whether or not to drop rows with NaN values.\n",
        "\t  Returns:\n",
        "\t\t  Pandas DataFrame of series framed for supervised learning.\n",
        "\t  \"\"\"\n",
        "    df_y_copy = df_y\n",
        "    n_vars = 1 if type(data) is list else data.shape[1]\n",
        "    df = pd.DataFrame(data)\n",
        "    cols, names = list(), list()\n",
        "    \n",
        "    # input sequence (t-n, ... t-1)\n",
        "    # This is where we select a sequence of data as features.\n",
        "    \n",
        "    for i in range(n_in, 0, -1):\n",
        "        cols.append(df.shift(i))\n",
        "        names += [('var%d(t-%d)' % (j+1, i)) for j in range(n_vars)]\n",
        "        \n",
        "    #  Here's where we shift our label.  My goal is to predict rain 12 hours in\n",
        "    #  the future using the last 8 values in the sequence for each of the X features.\n",
        "    y_len = df_y.shape[0]\n",
        "    df_y = df_y.shift(periods=y_shift).fillna(0)\n",
        "    df_y = df_y.drop(df_y.index[y_len-y_shift:y_len])\n",
        "    \n",
        "              \n",
        "    # put it all together\n",
        "    agg = pd.concat(cols, axis=1)\n",
        "    agg_len = agg.shape[0]\n",
        "    agg = agg.drop(agg.index[agg_len-y_shift:agg_len])\n",
        "    agg.columns = names\n",
        "    \n",
        "    # drop rows with NaN values\n",
        "    \n",
        "    if dropnan:\n",
        "        agg.dropna(inplace=True)\n",
        "        \n",
        "    agg = agg.reset_index(drop=True)\n",
        "    agg['Rain'] = df_y\n",
        "    return (agg)\n",
        "      \n",
        "#selecting only the column that we are going to use in the prediction process\n",
        "data_to_use=df[['Full Light Spectrum', 'Humidity (%)', 'IR Spectrum', 'Luminosity (lux)', 'Pressure (HP-900)', 'Temperature (deg F)', 'Rain']]\n",
        "\n",
        "# load dataset\n",
        "y = data_to_use.pop('Rain')\n",
        "dataset = data_to_use\n",
        "values = dataset.values\n",
        "\n",
        "# frame as supervised learning\n",
        "reframed = shift_time(values, y, shift_depth, y_shift)\n",
        "reframed['Rain'] = y\n",
        "\n",
        "# split into train and test sets\n",
        "\n",
        "train_X, test_X, train_y, test_y = split_data(reframed, 0.40, False, target) # Predict_flag = False\n",
        "\n",
        "# design network\n",
        "\n",
        "model = nn_mlp(train_X.shape, learning_rate)\n",
        "# fit network\n",
        "print()\n",
        "print(\"Fitting the Model.  See time below:\")\n",
        "\n",
        "# Call TensorBoard for visual metrics\n",
        "if tensorboard:\n",
        "    tbCallBack = TensorBoard(log_dir='./log', histogram_freq=1,\n",
        "                             write_graph=True,\n",
        "                             write_grads=True,\n",
        "                             batch_size=batch_size,\n",
        "                             write_images=True)\n",
        "\n",
        "# Fit the model based on everything we've defined to date.  Write metrics to \n",
        "# TensorBoard\n",
        "if tensorboard:\n",
        "    history = model.fit(train_X, train_y,            \n",
        "                              batch_size=batch_size,\n",
        "                              epochs=num_epochs,\n",
        "                              verbose=False,\n",
        "                              validation_data=(test_X, test_y), \n",
        "                              callbacks=[tbCallBack],\n",
        "                              shuffle = False) \n",
        "else:\n",
        "    history = model.fit(train_X, train_y,            \n",
        "                              batch_size=batch_size,\n",
        "                              epochs=num_epochs,\n",
        "                              verbose=False,\n",
        "                              validation_data=(test_X, test_y),                               \n",
        "                              shuffle = False) \n",
        "\n",
        "\n",
        "score = model.evaluate(test_X, test_y, batch_size=batch_size)\n",
        "print(score)\n",
        "print(history)\n",
        "\n",
        "model.save_weights(weights_file, overwrite=True)\n",
        "\n",
        "# plot history\n",
        "plt.plot(history.history['loss'], label='train')\n",
        "plt.plot(history.history['val_loss'], label='test')\n",
        "plt.legend()\n",
        "plt.show()\n",
        "\n",
        "\n",
        "df_out = pd.DataFrame()\n",
        "# make a prediction\n",
        "yhat = model.predict(test_X)\n",
        "df_out['yhat'] = pd.Series(yhat.flatten())\n",
        "df_out['y'] = test_y\n",
        "\n",
        "print(\"Report that scores the ability of the model to predict the target on the test data:\\n\")\n",
        "\n",
        "yhat_int = df_out['yhat'].astype(int)\n",
        "print(metrics.classification_report(test_y, yhat_int))\n",
        "\n",
        "# The Kappa statistic (or value) is a metric that compares an Observed Accuracy with an \n",
        "# Expected Accuracy (random chance).  The kappa statistic can range between -1 and 1. \n",
        "# The maximum value means complete agreement; zero or lower means chance agreement.\n",
        "\n",
        "ck_score = cohen_kappa_score(test_y, yhat_int)\n",
        "print(\"Cohen-Kappa Score: %7.2f\" % ck_score)\n",
        "\n",
        "# Confusion Matrix\n",
        "\n",
        "class_names = [ 'Not Rain', 'Rain']\n",
        "pytools.call_confusion_matrix(test_y,yhat_int, class_names, 'rain_confusion_matrix.png', 5)\n"
      ],
      "execution_count": 26,
      "outputs": [
        {
          "output_type": "stream",
          "text": [
            "/usr/local/lib/python3.6/dist-packages/ipykernel_launcher.py:10: FutureWarning: convert_objects is deprecated.  To re-infer data dtypes for object columns, use DataFrame.infer_objects()\n",
            "For all other conversions use the data-type specific converters pd.to_datetime, pd.to_timedelta and pd.to_numeric.\n",
            "  # Remove the CWD from sys.path while we load stuff.\n"
          ],
          "name": "stderr"
        },
        {
          "output_type": "stream",
          "text": [
            "X_train size: (2774, 48)\n",
            "y_train size: (2774,)\n",
            "X_test size: (1850, 48)\n",
            "y_test size: (1850,)\n",
            "(5295, 48)\n",
            "\n",
            "Fitting the Model.  See time below:\n",
            "1850/1850 [==============================] - 0s 38us/step\n",
            "[0.017116512776388246, 0.9816216222659961]\n",
            "<keras.callbacks.History object at 0x7f0cf2c2aac8>\n"
          ],
          "name": "stdout"
        },
        {
          "output_type": "display_data",
          "data": {
            "image/png": "[encoded data removed]",
            "text/plain": [
              "<Figure size 432x288 with 1 Axes>"
            ]
          },
          "metadata": {
            "tags": []
          }
        },
        {
          "output_type": "stream",
          "text": [
            "Report that scores the ability of the model to predict the target on the test data:\n",
            "\n",
            "              precision    recall  f1-score   support\n",
            "\n",
            "           0       0.99      0.99      0.99      1774\n",
            "           1       0.86      0.86      0.86        76\n",
            "\n",
            "   micro avg       0.99      0.99      0.99      1850\n",
            "   macro avg       0.92      0.92      0.92      1850\n",
            "weighted avg       0.99      0.99      0.99      1850\n",
            "\n",
            "Cohen-Kappa Score:    0.85\n"
          ],
          "name": "stdout"
        },
        {
          "output_type": "stream",
          "text": [
            "/usr/local/lib/python3.6/dist-packages/matplotlib/cbook/__init__.py:424: MatplotlibDeprecationWarning: \n",
            "Passing one of 'on', 'true', 'off', 'false' as a boolean is deprecated; use an actual boolean (True/False) instead.\n",
            "  warn_deprecated(\"2.2\", \"Passing one of 'on', 'true', 'off', 'false' as a \"\n"
          ],
          "name": "stderr"
        },
        {
          "output_type": "display_data",
          "data": {
            "image/png": "[encoded data removed]",
            "text/plain": [
              "<Figure size 1000x1000 with 2 Axes>"
            ]
          },
          "metadata": {
            "tags": []
          }
        },
        {
          "output_type": "display_data",
          "data": {
            "image/png": "[encoded data removed]",
            "text/plain": [
              "<Figure size 1000x1000 with 2 Axes>"
            ]
          },
          "metadata": {
            "tags": []
          }
        }
      ]
    },
    {
      "metadata": {
        "id": "LE9DILDd6rZY",
        "colab_type": "text"
      },
      "cell_type": "markdown",
      "source": [
        "## Save trained Model for future use\n",
        "\n",
        "Need to have the Google Drive loaded (see above)"
      ]
    },
    {
      "metadata": {
        "id": "DEaoRldOJy7d",
        "colab_type": "code",
        "outputId": "02185c99-7d43-400e-830e-ee836cfb4a74",
        "colab": {
          "base_uri": "https://localhost:8080/",
          "height": 173
        }
      },
      "cell_type": "code",
      "source": [
        "%cd /content\n",
        "%ls\n",
        "%cp rain_model_mlp /content/drive/'My Drive'/rain_model_mlp"
      ],
      "execution_count": 27,
      "outputs": [
        {
          "output_type": "stream",
          "text": [
            "/content\n",
            "1_rain_confusion_matrix.png        ngrok-stable-linux-amd64.zip.1\n",
            "2_rain_confusion_matrix.png        \u001b[0m\u001b[01;34m__pycache__\u001b[0m/\n",
            "\u001b[01;34mdrive\u001b[0m/                             pytools.py\n",
            "lightning_sensor_data.csv          rain_model\n",
            "lightning_sensor_data_predict.csv  rain_model_mlp\n",
            "\u001b[01;34mlog\u001b[0m/                               rain_seq_model\n",
            "\u001b[01;32mngrok\u001b[0m*                             \u001b[01;34msample_data\u001b[0m/\n",
            "ngrok-stable-linux-amd64.zip\n"
          ],
          "name": "stdout"
        }
      ]
    },
    {
      "metadata": {
        "id": "q3Uf96A5HHLm",
        "colab_type": "text"
      },
      "cell_type": "markdown",
      "source": [
        "# Predict New Data\n",
        "\n",
        "We're going to load our saved model first."
      ]
    },
    {
      "metadata": {
        "id": "ne26SZIZi0TJ",
        "colab_type": "code",
        "outputId": "cf562fa5-24c6-4514-cb2b-aeb2fdaedd1f",
        "colab": {
          "base_uri": "https://localhost:8080/",
          "height": 881
        }
      },
      "cell_type": "code",
      "source": [
        "weights_file = 'rain_model_mlp'\n",
        "model.load_weights(weights_file)\n",
        "df1 = pd.read_csv('/content/lightning_sensor_data_predict.csv', error_bad_lines=False)\n",
        "print(df1.shape)\n",
        "\n",
        "df_time = df1['Time']\n",
        "\n",
        "data_to_use1=df1[['Full Light Spectrum', 'Humidity (%)', 'IR Spectrum', 'Luminosity (lux)', 'Pressure (HP-900)', 'Temperature (deg F)']]\n",
        "\n",
        "dataset = data_to_use1\n",
        "dataset['Rain'] = 0\n",
        "y = dataset.pop('Rain')\n",
        "\n",
        "#print(dataset)\n",
        "values = dataset.values\n",
        "\n",
        "# frame as supervised learning\n",
        "\n",
        "reframed = shift_time(values, y, shift_depth, y_shift)\n",
        "\n",
        "\n",
        "\n",
        "#print(reframed)\n",
        "\n",
        "predict_X, y_bogus = split_data(reframed, 0.30, True, target) # Predict_flag = False\n",
        "\n",
        "# reshape input to be 3D [samples, timesteps, features]\n",
        "\n",
        "print(predict_X.shape)\n",
        "\n",
        "probs = model.predict_proba(predict_X)\n",
        "print (type(probs))\n",
        "df_t = pd.Series(df_time[0:predict_X.shape[0]])\n",
        "\n",
        "#df_pred = reframed.copy()\n",
        "df_pred = pd.DataFrame()\n",
        "df_pred['Time'] = df_t\n",
        "\n",
        "#df_pred['Predicted Value'] = (predict_val[0:])\n",
        "df_pred['Predicted Probability of Rain'] = probs\n",
        "\n",
        "#df_pred.to_csv(out_filename)\n",
        "k = df_pred.keys()\n",
        "\n",
        "#df_pred.sort_values(['Predicted Value'], ascending=[False])\n",
        "\n",
        "plt.figure( figsize=(30,10))\n",
        "plt.title(\"Probability of rain in 12 hours\")\n",
        "plt.ylabel(\"Probability of Rain\")\n",
        "plt.scatter(df_pred[k[0]], df_pred[k[1]], label=\"Probability of Rain in 12 hours\")\n",
        "plt.xticks(rotation=45)\n",
        "plt.show()"
      ],
      "execution_count": 28,
      "outputs": [
        {
          "output_type": "stream",
          "text": [
            "(193, 10)\n"
          ],
          "name": "stdout"
        },
        {
          "output_type": "stream",
          "text": [
            "/usr/local/lib/python3.6/dist-packages/ipykernel_launcher.py:11: SettingWithCopyWarning: \n",
            "A value is trying to be set on a copy of a slice from a DataFrame.\n",
            "Try using .loc[row_indexer,col_indexer] = value instead\n",
            "\n",
            "See the caveats in the documentation: http://pandas.pydata.org/pandas-docs/stable/indexing.html#indexing-view-versus-copy\n",
            "  # This is added back by InteractiveShellApp.init_path()\n",
            "/usr/local/lib/python3.6/dist-packages/ipykernel_launcher.py:10: FutureWarning: convert_objects is deprecated.  To re-infer data dtypes for object columns, use DataFrame.infer_objects()\n",
            "For all other conversions use the data-type specific converters pd.to_datetime, pd.to_timedelta and pd.to_numeric.\n",
            "  # Remove the CWD from sys.path while we load stuff.\n"
          ],
          "name": "stderr"
        },
        {
          "output_type": "stream",
          "text": [
            "(185, 48)\n",
            "<class 'numpy.ndarray'>\n"
          ],
          "name": "stdout"
        },
        {
          "output_type": "display_data",
          "data": {
            "image/png": "[encoded data removed]",
            "text/plain": [
              "<Figure size 2160x720 with 1 Axes>"
            ]
          },
          "metadata": {
            "tags": []
          }
        }
      ]
    },
    {
      "metadata": {
        "id": "ebOchCXdtKek",
        "colab_type": "code",
        "colab": {
          "base_uri": "https://localhost:8080/",
          "height": 1992
        },
        "outputId": "a81abdac-d3a5-41f8-cae7-487d268201ef"
      },
      "cell_type": "code",
      "source": [
        "df_out"
      ],
      "execution_count": 17,
      "outputs": [
        {
          "output_type": "execute_result",
          "data": {
            "text/html": [
              "<div>\n",
              "<style scoped>\n",
              "    .dataframe tbody tr th:only-of-type {\n",
              "        vertical-align: middle;\n",
              "    }\n",
              "\n",
              "    .dataframe tbody tr th {\n",
              "        vertical-align: top;\n",
              "    }\n",
              "\n",
              "    .dataframe thead th {\n",
              "        text-align: right;\n",
              "    }\n",
              "</style>\n",
              "<table border=\"1\" class=\"dataframe\">\n",
              "  <thead>\n",
              "    <tr style=\"text-align: right;\">\n",
              "      <th></th>\n",
              "      <th>yhat</th>\n",
              "      <th>y</th>\n",
              "    </tr>\n",
              "  </thead>\n",
              "  <tbody>\n",
              "    <tr>\n",
              "      <th>0</th>\n",
              "      <td>0.0</td>\n",
              "      <td>0</td>\n",
              "    </tr>\n",
              "    <tr>\n",
              "      <th>1</th>\n",
              "      <td>0.0</td>\n",
              "      <td>0</td>\n",
              "    </tr>\n",
              "    <tr>\n",
              "      <th>2</th>\n",
              "      <td>0.0</td>\n",
              "      <td>0</td>\n",
              "    </tr>\n",
              "    <tr>\n",
              "      <th>3</th>\n",
              "      <td>0.0</td>\n",
              "      <td>0</td>\n",
              "    </tr>\n",
              "    <tr>\n",
              "      <th>4</th>\n",
              "      <td>0.0</td>\n",
              "      <td>0</td>\n",
              "    </tr>\n",
              "    <tr>\n",
              "      <th>5</th>\n",
              "      <td>0.0</td>\n",
              "      <td>0</td>\n",
              "    </tr>\n",
              "    <tr>\n",
              "      <th>6</th>\n",
              "      <td>0.0</td>\n",
              "      <td>0</td>\n",
              "    </tr>\n",
              "    <tr>\n",
              "      <th>7</th>\n",
              "      <td>1.0</td>\n",
              "      <td>1</td>\n",
              "    </tr>\n",
              "    <tr>\n",
              "      <th>8</th>\n",
              "      <td>0.0</td>\n",
              "      <td>0</td>\n",
              "    </tr>\n",
              "    <tr>\n",
              "      <th>9</th>\n",
              "      <td>0.0</td>\n",
              "      <td>0</td>\n",
              "    </tr>\n",
              "    <tr>\n",
              "      <th>10</th>\n",
              "      <td>0.0</td>\n",
              "      <td>0</td>\n",
              "    </tr>\n",
              "    <tr>\n",
              "      <th>11</th>\n",
              "      <td>0.0</td>\n",
              "      <td>0</td>\n",
              "    </tr>\n",
              "    <tr>\n",
              "      <th>12</th>\n",
              "      <td>0.0</td>\n",
              "      <td>0</td>\n",
              "    </tr>\n",
              "    <tr>\n",
              "      <th>13</th>\n",
              "      <td>0.0</td>\n",
              "      <td>0</td>\n",
              "    </tr>\n",
              "    <tr>\n",
              "      <th>14</th>\n",
              "      <td>0.0</td>\n",
              "      <td>0</td>\n",
              "    </tr>\n",
              "    <tr>\n",
              "      <th>15</th>\n",
              "      <td>0.0</td>\n",
              "      <td>0</td>\n",
              "    </tr>\n",
              "    <tr>\n",
              "      <th>16</th>\n",
              "      <td>0.0</td>\n",
              "      <td>0</td>\n",
              "    </tr>\n",
              "    <tr>\n",
              "      <th>17</th>\n",
              "      <td>0.0</td>\n",
              "      <td>0</td>\n",
              "    </tr>\n",
              "    <tr>\n",
              "      <th>18</th>\n",
              "      <td>0.0</td>\n",
              "      <td>0</td>\n",
              "    </tr>\n",
              "    <tr>\n",
              "      <th>19</th>\n",
              "      <td>0.0</td>\n",
              "      <td>0</td>\n",
              "    </tr>\n",
              "    <tr>\n",
              "      <th>20</th>\n",
              "      <td>0.0</td>\n",
              "      <td>0</td>\n",
              "    </tr>\n",
              "    <tr>\n",
              "      <th>21</th>\n",
              "      <td>0.0</td>\n",
              "      <td>0</td>\n",
              "    </tr>\n",
              "    <tr>\n",
              "      <th>22</th>\n",
              "      <td>0.0</td>\n",
              "      <td>0</td>\n",
              "    </tr>\n",
              "    <tr>\n",
              "      <th>23</th>\n",
              "      <td>0.0</td>\n",
              "      <td>0</td>\n",
              "    </tr>\n",
              "    <tr>\n",
              "      <th>24</th>\n",
              "      <td>0.0</td>\n",
              "      <td>0</td>\n",
              "    </tr>\n",
              "    <tr>\n",
              "      <th>25</th>\n",
              "      <td>0.0</td>\n",
              "      <td>0</td>\n",
              "    </tr>\n",
              "    <tr>\n",
              "      <th>26</th>\n",
              "      <td>0.0</td>\n",
              "      <td>0</td>\n",
              "    </tr>\n",
              "    <tr>\n",
              "      <th>27</th>\n",
              "      <td>0.0</td>\n",
              "      <td>0</td>\n",
              "    </tr>\n",
              "    <tr>\n",
              "      <th>28</th>\n",
              "      <td>0.0</td>\n",
              "      <td>0</td>\n",
              "    </tr>\n",
              "    <tr>\n",
              "      <th>29</th>\n",
              "      <td>1.0</td>\n",
              "      <td>1</td>\n",
              "    </tr>\n",
              "    <tr>\n",
              "      <th>...</th>\n",
              "      <td>...</td>\n",
              "      <td>...</td>\n",
              "    </tr>\n",
              "    <tr>\n",
              "      <th>1820</th>\n",
              "      <td>0.0</td>\n",
              "      <td>0</td>\n",
              "    </tr>\n",
              "    <tr>\n",
              "      <th>1821</th>\n",
              "      <td>0.0</td>\n",
              "      <td>0</td>\n",
              "    </tr>\n",
              "    <tr>\n",
              "      <th>1822</th>\n",
              "      <td>0.0</td>\n",
              "      <td>0</td>\n",
              "    </tr>\n",
              "    <tr>\n",
              "      <th>1823</th>\n",
              "      <td>0.0</td>\n",
              "      <td>0</td>\n",
              "    </tr>\n",
              "    <tr>\n",
              "      <th>1824</th>\n",
              "      <td>0.0</td>\n",
              "      <td>0</td>\n",
              "    </tr>\n",
              "    <tr>\n",
              "      <th>1825</th>\n",
              "      <td>0.0</td>\n",
              "      <td>0</td>\n",
              "    </tr>\n",
              "    <tr>\n",
              "      <th>1826</th>\n",
              "      <td>0.0</td>\n",
              "      <td>0</td>\n",
              "    </tr>\n",
              "    <tr>\n",
              "      <th>1827</th>\n",
              "      <td>0.0</td>\n",
              "      <td>0</td>\n",
              "    </tr>\n",
              "    <tr>\n",
              "      <th>1828</th>\n",
              "      <td>0.0</td>\n",
              "      <td>0</td>\n",
              "    </tr>\n",
              "    <tr>\n",
              "      <th>1829</th>\n",
              "      <td>0.0</td>\n",
              "      <td>0</td>\n",
              "    </tr>\n",
              "    <tr>\n",
              "      <th>1830</th>\n",
              "      <td>0.0</td>\n",
              "      <td>0</td>\n",
              "    </tr>\n",
              "    <tr>\n",
              "      <th>1831</th>\n",
              "      <td>1.0</td>\n",
              "      <td>1</td>\n",
              "    </tr>\n",
              "    <tr>\n",
              "      <th>1832</th>\n",
              "      <td>0.0</td>\n",
              "      <td>0</td>\n",
              "    </tr>\n",
              "    <tr>\n",
              "      <th>1833</th>\n",
              "      <td>0.0</td>\n",
              "      <td>0</td>\n",
              "    </tr>\n",
              "    <tr>\n",
              "      <th>1834</th>\n",
              "      <td>0.0</td>\n",
              "      <td>0</td>\n",
              "    </tr>\n",
              "    <tr>\n",
              "      <th>1835</th>\n",
              "      <td>0.0</td>\n",
              "      <td>0</td>\n",
              "    </tr>\n",
              "    <tr>\n",
              "      <th>1836</th>\n",
              "      <td>0.0</td>\n",
              "      <td>0</td>\n",
              "    </tr>\n",
              "    <tr>\n",
              "      <th>1837</th>\n",
              "      <td>0.0</td>\n",
              "      <td>0</td>\n",
              "    </tr>\n",
              "    <tr>\n",
              "      <th>1838</th>\n",
              "      <td>0.0</td>\n",
              "      <td>0</td>\n",
              "    </tr>\n",
              "    <tr>\n",
              "      <th>1839</th>\n",
              "      <td>0.0</td>\n",
              "      <td>0</td>\n",
              "    </tr>\n",
              "    <tr>\n",
              "      <th>1840</th>\n",
              "      <td>0.0</td>\n",
              "      <td>0</td>\n",
              "    </tr>\n",
              "    <tr>\n",
              "      <th>1841</th>\n",
              "      <td>0.0</td>\n",
              "      <td>0</td>\n",
              "    </tr>\n",
              "    <tr>\n",
              "      <th>1842</th>\n",
              "      <td>0.0</td>\n",
              "      <td>0</td>\n",
              "    </tr>\n",
              "    <tr>\n",
              "      <th>1843</th>\n",
              "      <td>0.0</td>\n",
              "      <td>0</td>\n",
              "    </tr>\n",
              "    <tr>\n",
              "      <th>1844</th>\n",
              "      <td>1.0</td>\n",
              "      <td>1</td>\n",
              "    </tr>\n",
              "    <tr>\n",
              "      <th>1845</th>\n",
              "      <td>0.0</td>\n",
              "      <td>0</td>\n",
              "    </tr>\n",
              "    <tr>\n",
              "      <th>1846</th>\n",
              "      <td>0.0</td>\n",
              "      <td>0</td>\n",
              "    </tr>\n",
              "    <tr>\n",
              "      <th>1847</th>\n",
              "      <td>0.0</td>\n",
              "      <td>0</td>\n",
              "    </tr>\n",
              "    <tr>\n",
              "      <th>1848</th>\n",
              "      <td>0.0</td>\n",
              "      <td>0</td>\n",
              "    </tr>\n",
              "    <tr>\n",
              "      <th>1849</th>\n",
              "      <td>1.0</td>\n",
              "      <td>1</td>\n",
              "    </tr>\n",
              "  </tbody>\n",
              "</table>\n",
              "<p>1850 rows × 2 columns</p>\n",
              "</div>"
            ],
            "text/plain": [
              "      yhat  y\n",
              "0      0.0  0\n",
              "1      0.0  0\n",
              "2      0.0  0\n",
              "3      0.0  0\n",
              "4      0.0  0\n",
              "5      0.0  0\n",
              "6      0.0  0\n",
              "7      1.0  1\n",
              "8      0.0  0\n",
              "9      0.0  0\n",
              "10     0.0  0\n",
              "11     0.0  0\n",
              "12     0.0  0\n",
              "13     0.0  0\n",
              "14     0.0  0\n",
              "15     0.0  0\n",
              "16     0.0  0\n",
              "17     0.0  0\n",
              "18     0.0  0\n",
              "19     0.0  0\n",
              "20     0.0  0\n",
              "21     0.0  0\n",
              "22     0.0  0\n",
              "23     0.0  0\n",
              "24     0.0  0\n",
              "25     0.0  0\n",
              "26     0.0  0\n",
              "27     0.0  0\n",
              "28     0.0  0\n",
              "29     1.0  1\n",
              "...    ... ..\n",
              "1820   0.0  0\n",
              "1821   0.0  0\n",
              "1822   0.0  0\n",
              "1823   0.0  0\n",
              "1824   0.0  0\n",
              "1825   0.0  0\n",
              "1826   0.0  0\n",
              "1827   0.0  0\n",
              "1828   0.0  0\n",
              "1829   0.0  0\n",
              "1830   0.0  0\n",
              "1831   1.0  1\n",
              "1832   0.0  0\n",
              "1833   0.0  0\n",
              "1834   0.0  0\n",
              "1835   0.0  0\n",
              "1836   0.0  0\n",
              "1837   0.0  0\n",
              "1838   0.0  0\n",
              "1839   0.0  0\n",
              "1840   0.0  0\n",
              "1841   0.0  0\n",
              "1842   0.0  0\n",
              "1843   0.0  0\n",
              "1844   1.0  1\n",
              "1845   0.0  0\n",
              "1846   0.0  0\n",
              "1847   0.0  0\n",
              "1848   0.0  0\n",
              "1849   1.0  1\n",
              "\n",
              "[1850 rows x 2 columns]"
            ]
          },
          "metadata": {
            "tags": []
          },
          "execution_count": 17
        }
      ]
    },
    {
      "metadata": {
        "id": "wViiSbbwoUpY",
        "colab_type": "code",
        "colab": {}
      },
      "cell_type": "code",
      "source": [
        ""
      ],
      "execution_count": 0,
      "outputs": []
    }
  ]
}