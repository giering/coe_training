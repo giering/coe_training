{
  "nbformat": 4,
  "nbformat_minor": 0,
  "metadata": {
    "colab": {
      "name": "Basic Convolutional Neural Nets",
      "version": "0.3.2",
      "provenance": [],
      "collapsed_sections": [],
      "include_colab_link": true
    },
    "kernelspec": {
      "name": "python3",
      "display_name": "Python 3"
    },
    "accelerator": "TPU"
  },
  "cells": [
    {
      "cell_type": "markdown",
      "metadata": {
        "id": "view-in-github",
        "colab_type": "text"
      },
      "source": [
        "<a href=\"https://colab.research.google.com/github/todnewman/coe_training/blob/master/Basic_Convolutional_Neural_Nets.ipynb\" target=\"_parent\"><img src=\"https://colab.research.google.com/assets/colab-badge.svg\" alt=\"Open In Colab\"/></a>"
      ]
    },
    {
      "metadata": {
        "id": "uHwxGemYV_FT",
        "colab_type": "text"
      },
      "cell_type": "markdown",
      "source": [
        "# Basic Convolutional Neural Networks\n",
        "**Author**: W. Tod Newman\n",
        "\n",
        "**Updates**: New Version\n",
        "\n",
        "## Problem\n",
        "\n",
        "Use a convolutional neural network (CNN) to classify images from the \"Fashion MNIST\" data set,  Evaluate different numbers of neurons, kernel sizes, etc. and their impact on performance.\n",
        "\n",
        "Additionally, this notebook shows how to:\n",
        "1.  Follow a managed workflow from Data to Verification.  This uses GitHub, Google Drive, and Tensorboard to demonstrate what a production workflow might look like.\n",
        "2.  Connect a Keras/Tensorflow model with SKLearn and Pandas tools\n",
        "3.  Use Tensorboard for Evaluating models\n",
        "\n",
        "## Learning Objectives\n",
        "\n",
        "\n",
        "* Evaluate how CNN parameters impact classification accuracy and training time..\n",
        "* Evaluate model results using Tensorboard\n",
        "\n",
        "## Dataset\n",
        "\n",
        "This dataset is the Fashion MNIST dataset\n",
        "\n",
        "Fashion-MNIST is a dataset of Zalando's article images—consisting of a training set of 60,000 examples and a test set of 10,000 examples. Each example is a 28x28 grayscale image, associated with a label from 10 classes. Zalando intends Fashion-MNIST to serve as a direct drop-in replacement for the original MNIST dataset for benchmarking machine learning algorithms. It shares the same image size and structure of training and testing splits.\n",
        "\n",
        "Each image is 28 pixels in height and 28 pixels in width, for a total of 784 pixels in total. Each pixel has a single pixel-value associated with it, indicating the lightness or darkness of that pixel, with higher numbers meaning darker. This pixel-value is an integer between 0 and 255. The training and test data sets have 785 columns. The first column consists of the class labels (see above), and represents the article of clothing. The rest of the columns contain the pixel-values of the associated image.\n",
        "\n",
        "The Labels are:  \n",
        "0 T-shirt/top\n",
        "1 Trouser\n",
        "2 Pullover\n",
        "3 Dress\n",
        "4 Coat\n",
        "5 Sandal\n",
        "6 Shirt\n",
        "7 Sneaker\n",
        "8 Bag\n",
        "9 Ankle boot \n",
        "\n"
      ]
    },
    {
      "metadata": {
        "id": "V0A2_Mo0KxWc",
        "colab_type": "code",
        "outputId": "0750539c-3495-49b1-afac-e3cfa0f7ad03",
        "colab": {
          "base_uri": "https://localhost:8080/",
          "height": 33
        }
      },
      "cell_type": "code",
      "source": [
        "import keras\n",
        "from keras.datasets import fashion_mnist\n",
        "from keras.models import Sequential\n",
        "from keras.layers import Dense, Dropout, Flatten,  Conv2D, MaxPooling2D\n",
        "from keras import backend as K\n",
        "from keras.callbacks import EarlyStopping\n",
        "from sklearn import metrics\n",
        "import numpy as np\n",
        "import matplotlib.pyplot as plt\n",
        "from sklearn.model_selection import train_test_split\n",
        "import os\n",
        "%matplotlib inline\n",
        "os.environ['TF_CPP_MIN_LOG_LEVEL'] = \"2\"\n",
        "tensorboard = False"
      ],
      "execution_count": 0,
      "outputs": [
        {
          "output_type": "stream",
          "text": [
            "Using TensorFlow backend.\n"
          ],
          "name": "stderr"
        }
      ]
    },
    {
      "metadata": {
        "id": "vE3bA_BGUBX7",
        "colab_type": "text"
      },
      "cell_type": "markdown",
      "source": [
        "# Code to allow you to connect to Tensorboard from CoLaboratory\n",
        "As you probably know, your Google Colab virtual machine is running on a local network located in a Google's server room, while your local machine could be anywhere else in the world.\n",
        "\n",
        "How then can we access the TensorBoard page from our local machine?\n",
        "\n",
        "Fortunately there's a free service named ngrok that will allow us to connect to the Tensorboard connection on our Web browser.\n",
        "\n",
        "## Step One: Get the ngrok image from its stable location, then unzip it. \n",
        "Remember, this is all being done in the Google environment, so don't worry about your firewall...\n",
        "ngrok is pretty useful for testing.  Find more at https://ngrok.com/\n",
        "\n",
        "## Step Two: Connect Tensorboard\n",
        "\n",
        "Note that this gives a link to the Tensorboard URL at the end.  Train the model first and then click the  link below (will have ngrok.io at the end) to see results in Tensorboard.\n",
        "\n",
        "Here's a link with basic info on Tensorboard:  https://www.tensorflow.org/guide/summaries_and_tensorboard\n",
        "\n",
        "## Step Three: Run TensorBoard\n",
        "\n",
        "## Step Four:  Run ngrok and grab the URL that the Tensorboard instance will be hosted at.\n",
        "The URL below (in blue) is what you click on to see your Tensorboard instance after you train the CNN."
      ]
    },
    {
      "metadata": {
        "id": "TE_ENXwa22pK",
        "colab_type": "code",
        "outputId": "16082fd4-cdd7-4640-87a6-4854b60cfa63",
        "colab": {
          "base_uri": "https://localhost:8080/",
          "height": 245
        }
      },
      "cell_type": "code",
      "source": [
        "if not tensorboard:\n",
        "    !wget https://bin.equinox.io/c/4VmDzA7iaHb/ngrok-stable-linux-amd64.zip\n",
        "    !unzip ngrok-stable-linux-amd64.zip\n",
        "LOG_DIR = './log'\n",
        "get_ipython().system_raw(\n",
        "    'tensorboard --logdir {} --host 0.0.0.0 --port 6006 &'\n",
        "    .format(LOG_DIR)\n",
        ")\n",
        "get_ipython().system_raw('./ngrok http 6006 &')\n",
        "! curl -s http://localhost:4040/api/tunnels | python3 -c \\\n",
        "\"import sys, json; print(json.load(sys.stdin)['tunnels'][0]['public_url'])\"\n",
        "\n",
        "    \n",
        "tensorboard = True"
      ],
      "execution_count": 0,
      "outputs": [
        {
          "output_type": "stream",
          "text": [
            "--2019-04-17 22:19:54--  https://bin.equinox.io/c/4VmDzA7iaHb/ngrok-stable-linux-amd64.zip\n",
            "Resolving bin.equinox.io (bin.equinox.io)... 54.152.127.232, 34.232.181.106, 52.4.95.48, ...\n",
            "Connecting to bin.equinox.io (bin.equinox.io)|54.152.127.232|:443... connected.\n",
            "HTTP request sent, awaiting response... 200 OK\n",
            "Length: 14977695 (14M) [application/octet-stream]\n",
            "Saving to: ‘ngrok-stable-linux-amd64.zip’\n",
            "\n",
            "\r          ngrok-sta   0%[                    ]       0  --.-KB/s               \r         ngrok-stab  12%[=>                  ]   1.75M  7.93MB/s               \rngrok-stable-linux- 100%[===================>]  14.28M  34.4MB/s    in 0.4s    \n",
            "\n",
            "2019-04-17 22:19:55 (34.4 MB/s) - ‘ngrok-stable-linux-amd64.zip’ saved [14977695/14977695]\n",
            "\n",
            "Archive:  ngrok-stable-linux-amd64.zip\n",
            "  inflating: ngrok                   \n",
            "https://870a9d5a.ngrok.io\n"
          ],
          "name": "stdout"
        }
      ]
    },
    {
      "metadata": {
        "id": "3y6VjlzZLKPB",
        "colab_type": "text"
      },
      "cell_type": "markdown",
      "source": [
        "## Set Up Variables"
      ]
    },
    {
      "metadata": {
        "id": "LtL1H333LHGz",
        "colab_type": "code",
        "colab": {}
      },
      "cell_type": "code",
      "source": [
        "epochs = 10\n",
        "num_classes = 10\n",
        "batch_size = 128\n",
        "img_rows, img_cols = 28, 28"
      ],
      "execution_count": 0,
      "outputs": []
    },
    {
      "metadata": {
        "id": "4SW52B7dT9H5",
        "colab_type": "text"
      },
      "cell_type": "markdown",
      "source": [
        "## Gather and Process Fashion MNIST data\n",
        "\n",
        "1. First, collect the data from Keras (our goal is someday that our organizational data is this easy to get!)\n",
        "2. Then split into train and test sets.\n",
        "3. Next we need to process the data into the proper shape for the CNN\n",
        "4. Then scale the floats to land between 0 and 1.  Often times we use sklearn's MinMaxScaler for this, but in this case we're going for simplicity.\n",
        "5. Next take the y_train and y_test labels and encode them one-hot.  This will enable the CNN to function."
      ]
    },
    {
      "metadata": {
        "id": "GZENio2YLPUy",
        "colab_type": "code",
        "outputId": "37ab76a5-738e-41f8-f4f6-704986c95758",
        "colab": {
          "base_uri": "https://localhost:8080/",
          "height": 33
        }
      },
      "cell_type": "code",
      "source": [
        "mnist_data = fashion_mnist.load_data()\n",
        "x = mnist_data[0][0]\n",
        "y = mnist_data[0][1]\n",
        "\n",
        "\n",
        "x_train, x_test, y_train, y_test = train_test_split(x, y, test_size=0.33, random_state=42)\n",
        "\n",
        "if K.image_data_format() == \"channels first\":\n",
        "    x_train = x_train.reshape(x_train.shape[0], 1, img_rows, img_cols)\n",
        "    x_test = x_test.reshape(x_test.shape[0], 1, img_rows, img_cols)\n",
        "    input_shape = (1, img_rows, img_cols)\n",
        "else:\n",
        "    x_train = x_train.reshape(x_train.shape[0], img_rows, img_cols, 1)\n",
        "    x_test = x_test.reshape(x_test.shape[0], img_rows, img_cols, 1)\n",
        "    input_shape = (img_rows, img_cols, 1)\n",
        "    \n",
        "x_train = x_train.astype(\"float32\")\n",
        "x_test = x_test.astype(\"float32\")\n",
        "x_train /= 225\n",
        "x_test /= 225\n",
        "\n",
        "# Convert Class Vector to Binary Class Matrices.\n",
        "\n",
        "y_train = keras.utils.to_categorical(y_train, num_classes)\n",
        "y_test = keras.utils.to_categorical(y_test, num_classes)\n",
        "print(y_test.shape)\n",
        "\n",
        "def decode_one_hot(y):\n",
        "    y_classes = [np.argmax(yi, axis=None, out=None) for yi in y]\n",
        "    return y_classes"
      ],
      "execution_count": 0,
      "outputs": [
        {
          "output_type": "stream",
          "text": [
            "(19800, 10)\n"
          ],
          "name": "stdout"
        }
      ]
    },
    {
      "metadata": {
        "id": "8FcFnUPDLvnO",
        "colab_type": "text"
      },
      "cell_type": "markdown",
      "source": [
        "## Build the Model"
      ]
    },
    {
      "metadata": {
        "id": "8EWdo8mALXB9",
        "colab_type": "code",
        "colab": {}
      },
      "cell_type": "code",
      "source": [
        "from keras.callbacks import TensorBoard\n",
        "\n",
        "model = Sequential()\n",
        "model.add(Conv2D(20, kernel_size=(5,5), strides=(2,2), activation=\"relu\", input_shape=input_shape))\n",
        "#model.add(MaxPooling2D(pool_size=(2,2)))\n",
        "#model.add(Conv2D(32, kernel_size=(3,3), activation=\"relu\"))\n",
        "model.add(Dropout(0.6))\n",
        "model.add(MaxPooling2D(pool_size=(2,2)))\n",
        "model.add(Flatten())\n",
        "model.add(Dense(128, activation=\"relu\"))\n",
        "model.add(Dropout(0.2))\n",
        "model.add(Dense(num_classes, activation=\"softmax\"))\n",
        "\n",
        "\n",
        "model.compile(loss=keras.losses.categorical_crossentropy, optimizer=keras.optimizers.Adadelta(), metrics=['accuracy'])\n",
        "\n",
        "tbCallBack = TensorBoard(log_dir='./log', histogram_freq=1,\n",
        "                         write_graph=True,\n",
        "                         write_grads=True,\n",
        "                         batch_size=batch_size,\n",
        "                         write_images=True)\n",
        "\n",
        "# Having trouble getting tensorboard callback to work well with EarlyStopping callback...\n",
        "if not tensorboard:\n",
        "    my_callbacks = [EarlyStopping(monitor=\"acc\", patience=5)]\n",
        "else:\n",
        "    my_callbacks = [tbCallBack]"
      ],
      "execution_count": 0,
      "outputs": []
    },
    {
      "metadata": {
        "id": "fvIfjap-L8TO",
        "colab_type": "text"
      },
      "cell_type": "markdown",
      "source": [
        "## Fit and Evaluate the Model"
      ]
    },
    {
      "metadata": {
        "id": "n5U20dV1L-eP",
        "colab_type": "code",
        "outputId": "0dde7f18-6d07-4791-85e0-fed8cc65eed9",
        "colab": {
          "base_uri": "https://localhost:8080/",
          "height": 1041
        }
      },
      "cell_type": "code",
      "source": [
        "from sklearn import metrics\n",
        "\n",
        "%cd /content/drive/'My Drive'/\n",
        "\n",
        "retrain = False\n",
        "weights_file = 'cnn_fashion_mnist'\n",
        "\n",
        "if not retrain:\n",
        "    model.load_weights(weights_file) \n",
        "\n",
        "hist = model.fit(x_train, y_train,\n",
        "          batch_size=batch_size,\n",
        "          epochs=epochs,\n",
        "          verbose=1,\n",
        "          validation_data=(x_test, y_test),\n",
        "          callbacks=my_callbacks)\n",
        "\n",
        "score = model.evaluate(x_test, y_test)\n",
        "\n",
        "weights_file = 'cnn_fashion_mnist'\n",
        "model.save_weights(weights_file, overwrite=True)\n",
        "\n",
        "yhat = model.predict_classes(x_test).astype(int)\n",
        "y_dec = decode_one_hot(y_test)\n",
        "print(metrics.classification_report(y_dec, yhat))\n",
        "print(\"Testing Loss:\", score[0])\n",
        "print(\"Testing Accuracy:\", score[1])\n",
        "\n",
        "model.summary()\n",
        "\n"
      ],
      "execution_count": 0,
      "outputs": [
        {
          "output_type": "stream",
          "text": [
            "/content/drive/My Drive\n",
            "Train on 40200 samples, validate on 19800 samples\n",
            "Epoch 1/10\n",
            "40200/40200 [==============================] - 10s 251us/step - loss: 0.4011 - acc: 0.8568 - val_loss: 0.3160 - val_acc: 0.8862\n",
            "Epoch 2/10\n",
            "40200/40200 [==============================] - 10s 245us/step - loss: 0.3830 - acc: 0.8637 - val_loss: 0.3130 - val_acc: 0.8925\n",
            "Epoch 3/10\n",
            "40200/40200 [==============================] - 10s 245us/step - loss: 0.3614 - acc: 0.8700 - val_loss: 0.3093 - val_acc: 0.8921\n",
            "Epoch 4/10\n",
            "40200/40200 [==============================] - 10s 248us/step - loss: 0.3558 - acc: 0.8717 - val_loss: 0.3069 - val_acc: 0.8923\n",
            "Epoch 5/10\n",
            "40200/40200 [==============================] - 10s 245us/step - loss: 0.3479 - acc: 0.8736 - val_loss: 0.3090 - val_acc: 0.8922\n",
            "Epoch 6/10\n",
            "40200/40200 [==============================] - 10s 255us/step - loss: 0.3400 - acc: 0.8760 - val_loss: 0.3041 - val_acc: 0.8965\n",
            "Epoch 7/10\n",
            "40200/40200 [==============================] - 10s 245us/step - loss: 0.3403 - acc: 0.8761 - val_loss: 0.3034 - val_acc: 0.8993\n",
            "Epoch 8/10\n",
            "40200/40200 [==============================] - 10s 243us/step - loss: 0.3283 - acc: 0.8807 - val_loss: 0.3103 - val_acc: 0.8919\n",
            "Epoch 9/10\n",
            "40200/40200 [==============================] - 10s 244us/step - loss: 0.3301 - acc: 0.8821 - val_loss: 0.2938 - val_acc: 0.8991\n",
            "Epoch 10/10\n",
            "40200/40200 [==============================] - 10s 246us/step - loss: 0.3268 - acc: 0.8813 - val_loss: 0.3028 - val_acc: 0.8948\n",
            "19800/19800 [==============================] - 2s 105us/step\n",
            "              precision    recall  f1-score   support\n",
            "\n",
            "           0       0.88      0.81      0.84      1962\n",
            "           1       1.00      0.96      0.98      1998\n",
            "           2       0.78      0.89      0.83      2005\n",
            "           3       0.88      0.93      0.90      1961\n",
            "           4       0.85      0.79      0.82      1989\n",
            "           5       0.97      0.98      0.97      1969\n",
            "           6       0.72      0.71      0.71      1995\n",
            "           7       0.93      0.97      0.95      1953\n",
            "           8       0.98      0.98      0.98      1983\n",
            "           9       0.98      0.93      0.96      1985\n",
            "\n",
            "   micro avg       0.89      0.89      0.89     19800\n",
            "   macro avg       0.90      0.90      0.90     19800\n",
            "weighted avg       0.90      0.89      0.89     19800\n",
            "\n",
            "Testing Loss: 0.3028013547261556\n",
            "Testing Accuracy: 0.8948484848484849\n",
            "_________________________________________________________________\n",
            "Layer (type)                 Output Shape              Param #   \n",
            "=================================================================\n",
            "conv2d_2 (Conv2D)            (None, 12, 12, 20)        520       \n",
            "_________________________________________________________________\n",
            "dropout_3 (Dropout)          (None, 12, 12, 20)        0         \n",
            "_________________________________________________________________\n",
            "max_pooling2d_2 (MaxPooling2 (None, 6, 6, 20)          0         \n",
            "_________________________________________________________________\n",
            "flatten_2 (Flatten)          (None, 720)               0         \n",
            "_________________________________________________________________\n",
            "dense_3 (Dense)              (None, 128)               92288     \n",
            "_________________________________________________________________\n",
            "dropout_4 (Dropout)          (None, 128)               0         \n",
            "_________________________________________________________________\n",
            "dense_4 (Dense)              (None, 10)                1290      \n",
            "=================================================================\n",
            "Total params: 94,098\n",
            "Trainable params: 94,098\n",
            "Non-trainable params: 0\n",
            "_________________________________________________________________\n"
          ],
          "name": "stdout"
        }
      ]
    },
    {
      "metadata": {
        "id": "wTXLg2MJMFhy",
        "colab_type": "text"
      },
      "cell_type": "markdown",
      "source": [
        "## Plot the accuracy vs. validation accuracy"
      ]
    },
    {
      "metadata": {
        "id": "P2Z97VRkMIRh",
        "colab_type": "code",
        "outputId": "18dffe71-649f-4dca-bf93-2ea5d97f7711",
        "colab": {
          "base_uri": "https://localhost:8080/",
          "height": 522
        }
      },
      "cell_type": "code",
      "source": [
        "epoch_list = list(range(1, len(hist.history['acc']) + 1))\n",
        "plt.plot(epoch_list, hist.history['acc'], epoch_list, hist.history['val_acc'])\n",
        "plt.legend((\"Training Accuracy\", \"Validation Accuracy\"))\n",
        "plt.show()\n",
        "\n",
        "plt.plot(epoch_list, hist.history['loss'], epoch_list, hist.history['val_loss'])\n",
        "plt.legend((\"Training Loss\", \"Validation Loss\"))\n",
        "plt.show()"
      ],
      "execution_count": 0,
      "outputs": [
        {
          "output_type": "display_data",
          "data": {
            "image/png": "[encoded data removed]",
            "text/plain": [
              "<Figure size 432x288 with 1 Axes>"
            ]
          },
          "metadata": {
            "tags": []
          }
        },
        {
          "output_type": "display_data",
          "data": {
            "image/png": "[encoded data removed]",
            "text/plain": [
              "<Figure size 432x288 with 1 Axes>"
            ]
          },
          "metadata": {
            "tags": []
          }
        }
      ]
    },
    {
      "metadata": {
        "id": "euu5NjS1gKV-",
        "colab_type": "code",
        "outputId": "4ec1c4cb-a854-493b-d640-690962b8b0b7",
        "colab": {
          "base_uri": "https://localhost:8080/",
          "height": 472
        }
      },
      "cell_type": "code",
      "source": [
        "from google.colab import drive\n",
        "drive.mount('/content/drive')\n",
        "%cd /content/drive/'My Drive'/\n",
        "#%ls"
      ],
      "execution_count": 0,
      "outputs": [
        {
          "output_type": "stream",
          "text": [
            "/content/drive/My Drive\n",
            "/content/drive/My Drive\n",
            "total 4097\n",
            "drwx------ 2 root root    4096 Jul 21  2018  \u001b[0m\u001b[01;34mbaseball\u001b[0m/\n",
            "-rw------- 1 root root  394368 Apr 17 22:54  cnn_fashion_mnist\n",
            "drwx------ 2 root root    4096 Jul 21  2018  \u001b[01;34mColab\u001b[0m/\n",
            "drwx------ 2 root root    4096 Aug  6  2018 \u001b[01;34m'Colab Notebooks'\u001b[0m/\n",
            "drwx------ 2 root root    4096 Jul 25  2018  \u001b[01;34mColab_Notebooks\u001b[0m/\n",
            "drwx------ 3 root root    4096 Apr 17 22:53  \u001b[01;34mdata\u001b[0m/\n",
            "drwx------ 2 root root    4096 Jul 22  2018 \u001b[01;34m'Fusion Tables'\u001b[0m/\n",
            "-rw------- 1 root root  238376 Apr 16 21:39  id_model\n",
            "-rw------- 1 root root       1 Nov 28  2011 'Imported from Google Notebook - My Notebook.gdoc'\n",
            "-rw------- 1 root root      65 Mar 14 17:27  kaggle.json\n",
            "-rw------- 1 root root  125424 Jul 24  2018  lunarlander\n",
            "drwx------ 2 root root    4096 Oct 23 15:17  \u001b[01;34mMisc\u001b[0m/\n",
            "-rw------- 1 root root  108024 Mar  2 07:17  rain_model\n",
            "-rw------- 1 root root  105920 Mar  4 15:28  rain_model_10k_dropout.2\n",
            "-rw------- 1 root root  122424 Mar  3 19:01  rain_model_5k_dropout.3\n",
            "-rw------- 1 root root  122424 Mar  3 19:21  rain_model_5k_dropout.4\n",
            "-rw------- 1 root root   46664 Mar  8 00:01  rain_model_mlp\n",
            "-rw------- 1 root root   46912 Mar  7 15:12  rain_model_mlp_bce\n",
            "-rw------- 1 root root  236160 Mar  6 07:23  rain_seq_model\n",
            "-rw------- 1 root root 2531684 Apr 15 17:52  reframed.csv\n",
            "-rw------- 1 root root   70605 Mar 29 03:01  SampleSubmissionStage2_0.csv\n",
            "-rw------- 1 root root     229 Aug  9  2018  Untitled0.ipynb\n",
            "-rw------- 1 root root     287 Jan 29 22:56  Untitled1.ipynb\n",
            "-rw------- 1 root root    8423 Mar  7 20:56  Untitled2.ipynb\n",
            "drwx------ 2 root root    4096 Jul 22  2018  \u001b[01;34mwrting\u001b[0m/\n"
          ],
          "name": "stdout"
        }
      ]
    },
    {
      "metadata": {
        "id": "TPxAdDDAg7Th",
        "colab_type": "code",
        "colab": {}
      },
      "cell_type": "code",
      "source": [
        ""
      ],
      "execution_count": 0,
      "outputs": []
    }
  ]
}